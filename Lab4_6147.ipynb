{
 "cells": [
  {
   "cell_type": "code",
   "execution_count": null,
   "metadata": {},
   "outputs": [],
   "source": [
    "# Zadanie 1\n",
    "# Poniżej przy pomocy funkcji fetch_openml można zaimportować zbiór danych o samochodach\n",
    "# Zapoznaj się ze zbiorem danych (zwizualizuj wybrane przez siebie cechy) a następnie podziel go na zbiór uczący i testowy\n",
    "# Wytrenuj klasyfikator KMeans z zadaną przez siebie liczbą klas i zwizualizuj wyniki predykcji na zbiorze testowym\n",
    "\n",
    "from sklearn.datasets import fetch_openml\n",
    "from sklearn.cluster import KMeans\n",
    "from sklearn.model_selection import train_test_split\n",
    "from sklearn import datasets\n",
    "import matplotlib.pyplot as plt\n",
    "%matplotlib inline\n",
    "\n",
    "samochody = fetch_openml('cars1')\n",
    "\n",
    "print(samochody.keys())\n",
    "print(samochody['feature_names'])\n",
    "print(samochody['categories'])\n",
    "print(samochody['data'][0])\n",
    "\n",
    "# Podzielmy zbiór na cechy oraz etykiety - to już znamy\n",
    "# wybieramy cechę trzecią - czyli moc silnika w koniach mechanicznych\n",
    "# wybieramy cechę czwartą - wagę pojazdu\n",
    "\n",
    "X = samochody.data[:, [3, 4]]\n",
    "y = samochody['target']\n",
    "y = [int(elem) for elem in y]\n",
    "\n",
    "# Używamy funkcji do podzielenia zbioru na zbiór uczący i zbiór testowy\n",
    "X_train, X_test, y_train, y_test = train_test_split(X, y, test_size = 0.3)\n",
    "\n",
    "# Tworzymy klasyfikator z pięcioma klastrami (klasami)\n",
    "kmn = KMeans(n_clusters=5)\n",
    "\n",
    "# Uczymy klasyfikator na danych treningowych\n",
    "kmn.fit(X_train)\n",
    "\n",
    "# Wyciągamy punkty centralne klastrów - pokażemy je na wykresie obok punktów ze zbioru uczącego\n",
    "centra = kmn.cluster_centers_\n",
    "\n",
    "fig, ax = plt.subplots(1, 2)\n",
    "# pierwszy wykres to nasz zbiór uczący, z prawdziwymi klasami\n",
    "ax[0].scatter(X_train[:, 0], X_train[:, 1], c=y_train, s=20)\n",
    "\n",
    "# Teraz używamy danych treningowych żeby sprawdzić co klasyfikator o nich myśli\n",
    "y_pred_train = kmn.predict(X_train)\n",
    "ax[1].scatter(X_train[:, 0], X_train[:, 1], c=y_pred_train, s=20)\n",
    "\n",
    "# Dokładamy na drugim wykresie centra klastrów\n",
    "ax[1].scatter(centra[:, 0], centra[:, 1], c='red', s=50)\n",
    "plt.show()\n",
    "\n",
    "# Próbujemy przewidzieć klasy samochodów dla zbioru testowego\n",
    "y_pred = kmn.predict(X_test)\n",
    "\n",
    "# Nowe klasy samochodów przewidziane przez klastrowanie\n",
    "plt.scatter(X_test[:, 0], X_test[:, 1], c=y_pred, s=20)\n",
    "\n",
    "# Tak jak powyżej, wyświetlamy centra klastrów\n",
    "plt.scatter(centra[:, 0], centra[:, 1], c='red', s=50)\n",
    "plt.show()"
   ]
  },
  {
   "cell_type": "code",
   "execution_count": null,
   "metadata": {},
   "outputs": [],
   "source": [
    "# Zadanie 2\n",
    "# Opisz własnymi słowami, jakie klasy samochodów wg Ciebie znalazły się w zbiorze\n",
    "\n",
    "# W poszczególnych klastrach zostały zawarte samochody o różnych kombinacjach moc silnika/waga pojazdu\n",
    "# najbliżej początka osi X i Y znajdują się samochody o niskich koniachmechanicznych i małej wadze\n",
    "# najdalej początka osi X i Y znajdują się samochody o wysokich KM i dużej wadze\n"
   ]
  }
 ],
 "metadata": {
  "kernelspec": {
   "display_name": "Python 3",
   "language": "python",
   "name": "python3"
  },
  "language_info": {
   "codemirror_mode": {
    "name": "ipython",
    "version": 3
   },
   "file_extension": ".py",
   "mimetype": "text/x-python",
   "name": "python",
   "nbconvert_exporter": "python",
   "pygments_lexer": "ipython3",
   "version": "3.7.4"
  }
 },
 "nbformat": 4,
 "nbformat_minor": 2
}
