{
 "cells": [
  {
   "cell_type": "code",
   "execution_count": null,
   "metadata": {},
   "outputs": [],
   "source": [
    "# Zadanie 1\n",
    "# Wybierz inną cechę i spróbuj przewidzieć ceny mieszkań. Użyj walidacji krzyżowej.\n",
    "# Zadanie bonus: zaimportuj dane nt cukrzycy przy pomocy funkcji load_diabetes\n",
    "# Następnie przeanalizuj dane i zaproponuj regresor liniowy. Sprawdź jakość modelu za pomocą walidacji krzyżowej.\n"
   ]
  },
  {
   "cell_type": "code",
   "execution_count": null,
   "metadata": {},
   "outputs": [],
   "source": [
    "from sklearn.datasets import load_boston\n",
    "import matplotlib.pyplot as plt\n",
    "%matplotlib inline\n",
    "import pandas as pd\n",
    "import numpy as np\n",
    "import seaborn as sns\n",
    "from sklearn.model_selection import train_test_split\n",
    "from sklearn.metrics import r2_score\n",
    "from sklearn.linear_model import LinearRegression\n",
    "from sklearn.model_selection import cross_val_score\n",
    "\n",
    "# Wczytanie zbioru nieruchomości \n",
    "boston_nieruchomosci = load_boston()\n",
    "\n",
    "print('Klucze dostępne w zbiorze danych: ', boston_nieruchomosci.keys())\n",
    "print(boston_nieruchomosci.DESCR)\n",
    "\n",
    "boston_df = pd.DataFrame(boston_nieruchomosci['data'], columns=boston_nieruchomosci['feature_names'])\n",
    "\n",
    "boston_df['target'] = np.array(list(boston_nieruchomosci['target']))\n",
    "\n",
    "# Ilość tlenków azotu\n",
    "azote = boston_nieruchomosci['data'][:, np.newaxis, 4]\n",
    "plt.scatter(azote, boston_nieruchomosci['target'])\n",
    "plt.show()\n",
    "\n",
    "# Stworzenie regresora liniowego\n",
    "linreg = LinearRegression()\n",
    "\n",
    "X_train, X_test, y_train, y_test = train_test_split(azote, boston_nieruchomosci['target'], test_size = 0.5)\n",
    "\n",
    "linreg.fit(X_train, y_train)\n",
    "\n",
    "# Przewidywanie ceny\n",
    "y_pred = linreg.predict(X_test)\n",
    "\n",
    "# Domyślna metryka\n",
    "print('Metryka domyślna: ', linreg.score(X_test, y_test))\n",
    "\n",
    "# Wskaźnik (metryka) r^2\n",
    "print('Metryka r2: ', r2_score(y_test, y_pred))\n",
    "\n",
    "# Współczynniki regresji\n",
    "print('Współczynniki regresji:\\n', linreg.coef_)\n",
    "\n",
    "# Wykres regresji\n",
    "plt.scatter(X_test, y_test, color='black')\n",
    "plt.plot(X_test, y_pred, color='blue', linewidth=2)\n",
    "plt.show()\n",
    "\n",
    "# Walidacja krzyżowa\n",
    "cv_score_r2 = cross_val_score(linreg, azote, boston_nieruchomosci.target, cv=5, scoring='r2')\n",
    "print(\"R^2 (coefficient of determination) regression score:\",cv_score_r2)\n",
    "cv_score_ev = cross_val_score(linreg, azote, boston_nieruchomosci.target, cv=5, scoring='explained_variance')\n",
    "print(\"Explained variance regression score:\",cv_score_ev)\n",
    "cv_score_mse = cross_val_score(linreg, azote, boston_nieruchomosci.target, cv=5, scoring='neg_mean_squared_error')\n",
    "print(\"Mean squared error regression loss:\",cv_score_mse)\n",
    "cv_score_mae = cross_val_score(linreg, azote, boston_nieruchomosci.target, cv=5, scoring='neg_mean_absolute_error')\n",
    "print(\"Mean absolute error regression loss:\",cv_score_mae)\n",
    "cv_score_max_error = cross_val_score(linreg, azote, boston_nieruchomosci.target, cv=5, scoring='max_error')\n",
    "print(\"MAX Error:\", cv_score_max_error)"
   ]
  }
 ],
 "metadata": {
  "kernelspec": {
   "display_name": "Python 3",
   "language": "python",
   "name": "python3"
  },
  "language_info": {
   "codemirror_mode": {
    "name": "ipython",
    "version": 3
   },
   "file_extension": ".py",
   "mimetype": "text/x-python",
   "name": "python",
   "nbconvert_exporter": "python",
   "pygments_lexer": "ipython3",
   "version": "3.7.4"
  }
 },
 "nbformat": 4,
 "nbformat_minor": 2
}
